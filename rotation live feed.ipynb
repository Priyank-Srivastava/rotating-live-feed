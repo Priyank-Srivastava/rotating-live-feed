{
 "cells": [
  {
   "cell_type": "code",
   "execution_count": 2,
   "metadata": {},
   "outputs": [],
   "source": [
    "import cv2\n",
    "import time\n",
    "def emptyfun():\n",
    "    pass\n",
    "name = 'rotation'\n",
    "cv2.namedWindow(name)\n",
    "cap = cv2.VideoCapture(0)\n",
    "if cap.isOpened():\n",
    "    ret,frame = cap.read()\n",
    "else:\n",
    "    ret = False\n",
    "#cv2.createTrackbar('rotation',name,0,360,emptyfun)\n",
    "#cv2.createTrackbar('zoom',name,1,10,emptyfun)\n",
    "angle = 0\n",
    "scale = 1\n",
    "while ret == True:\n",
    "    ret,frame = cap.read()\n",
    "    row,col,channel = frame.shape\n",
    "    if angle == 360:\n",
    "        angle=0\n",
    "    if scale>=2:\n",
    "        scale = 1\n",
    "    #angle = cv2.getTrackbarPos('rotation',name)\n",
    "    #scale = cv2.getTrackbarPos('zoom',name)\n",
    "    T = cv2.getRotationMatrix2D((col/2,row/2),angle,1)\n",
    "    output = cv2.warpAffine(frame,T,(col,row))\n",
    "    cv2.imshow('Rotation',output)\n",
    "    cv2.imshow('live',frame)\n",
    "    angle = angle+1\n",
    "    scale = scale+0.01\n",
    "    #time.sleep(0.25)\n",
    "    if cv2.waitKey(1)==27:\n",
    "        break\n",
    "cv2.destroyAllWindows()\n",
    "cap.release()"
   ]
  },
  {
   "cell_type": "code",
   "execution_count": null,
   "metadata": {},
   "outputs": [],
   "source": []
  },
  {
   "cell_type": "code",
   "execution_count": null,
   "metadata": {},
   "outputs": [],
   "source": []
  }
 ],
 "metadata": {
  "kernelspec": {
   "display_name": "Python 3",
   "language": "python",
   "name": "python3"
  },
  "language_info": {
   "codemirror_mode": {
    "name": "ipython",
    "version": 3
   },
   "file_extension": ".py",
   "mimetype": "text/x-python",
   "name": "python",
   "nbconvert_exporter": "python",
   "pygments_lexer": "ipython3",
   "version": "3.7.9"
  }
 },
 "nbformat": 4,
 "nbformat_minor": 4
}
